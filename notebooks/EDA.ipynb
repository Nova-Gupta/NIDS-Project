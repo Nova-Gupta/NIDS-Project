{
 "cells": [
  {
   "cell_type": "code",
   "execution_count": null,
   "id": "27d627ef",
   "metadata": {
    "vscode": {
     "languageId": "plaintext"
    }
   },
   "outputs": [],
   "source": [
    "# EDA.ipynb\n",
    "\n",
    "# 1. Imports\n",
    "import pandas as pd\n",
    "import numpy as np\n",
    "import seaborn as sns\n",
    "import matplotlib.pyplot as plt\n",
    "from scipy.io import arff\n",
    "\n",
    "# Notebook settings\n",
    "sns.set(style='darkgrid')\n",
    "plt.rcParams['figure.figsize'] = (10, 6)"
   ]
  }
 ],
 "metadata": {
  "language_info": {
   "name": "python"
  }
 },
 "nbformat": 4,
 "nbformat_minor": 5
}
